{
 "cells": [
  {
   "cell_type": "markdown",
   "id": "891cffff-edc9-477f-a39d-4d9fbae83237",
   "metadata": {},
   "source": [
    "$$\\LARGE\\textbf{Statistics for Artificial Intelligence and Data Science}$$"
   ]
  },
  {
   "cell_type": "markdown",
   "id": "0c6d2237-b197-4b44-9cd5-13f474e94b0b",
   "metadata": {},
   "source": [
    "$$\\Large\\textbf{Analysis of Storks Data}$$"
   ]
  },
  {
   "cell_type": "markdown",
   "id": "937bdc81-b99f-461a-8ce2-139eefd2ff1a",
   "metadata": {},
   "source": [
    "$$\\Large\\textbf{Daniel Elston}$$"
   ]
  },
  {
   "cell_type": "markdown",
   "id": "4a158f2e-b210-44e4-ade3-7317b2ad0113",
   "metadata": {},
   "source": [
    "$$\\newline$$"
   ]
  },
  {
   "cell_type": "markdown",
   "id": "aa4c9d55-8cca-4e6f-bd6a-ee7c2537a8c3",
   "metadata": {},
   "source": [
    "$\\Large\\textbf{Contents:}$"
   ]
  },
  {
   "cell_type": "markdown",
   "id": "92bd3a98-bc02-4149-96ef-547e4bf5964d",
   "metadata": {},
   "source": [
    "**Notebook Outline**\n",
    "\n",
    "**Section 1: Analysis 1**\n",
    "\n",
    "> **1.1:** Data Load In\n",
    "\n",
    "> **1.2:** Regression Model 1\n",
    "\n",
    "> **1.3:** Regression Model 2\n",
    "\n",
    "> **1.4:** Brief Explanation\n",
    "\n",
    "> **1.5:** Bootstrap\n",
    "\n",
    "> **1.6:** Resampled Regression Model 1\n",
    "\n",
    "> **1.7:** Resampled Regression Model 2\n",
    "\n",
    "> **1.8:** Difference in R2 Values\n",
    "\n",
    "**Section 2: Analysis 2**\n",
    "\n",
    "> **2.1:** Data Preparation\n",
    "\n",
    "> **2.2:** Regression Model 1\n",
    "\n",
    "> **2.3:** Regression Model 2\n",
    "\n",
    "> **2.4:** Brief Explanation\n",
    "\n",
    "> **2.5:** Bootstrap\n",
    "\n",
    "> **2.6:** Resampled Regression Model 1\n",
    "\n",
    "> **2.7:** Resampled Regression Model 2\n",
    "\n",
    "> **2.8:** Difference in RMSE Values\n",
    "\n",
    "**Conclusion**"
   ]
  },
  {
   "cell_type": "markdown",
   "id": "2c271cd7-a394-463c-8af5-41e93acf7ef8",
   "metadata": {},
   "source": [
    "$$\\newline$$"
   ]
  },
  {
   "cell_type": "markdown",
   "id": "bdd4505d-1a68-44e3-acec-00314e478bd2",
   "metadata": {},
   "source": [
    "$\\Large\\textbf{Notebook Outline}$"
   ]
  },
  {
   "cell_type": "markdown",
   "id": "fc514211-235e-4c2c-8746-5b0a5073189b",
   "metadata": {},
   "source": [
    "This notebook looks at the 'Storks' dataset. The correlation between the birth rate of humans and number of stork pairs is explored. Regression models are plotted to show the relationships between different predictor variables and their effects on the target variables. The datasets are run through a bootstrap to increase the reliability of results and plotted again. Difference in R2 and RMSE values are determined combined with confidence intervals to increase confidence on which models predict the target variable better."
   ]
  },
  {
   "cell_type": "markdown",
   "id": "0a042c8b-71ca-43fe-82dc-0dd494e5f801",
   "metadata": {},
   "source": [
    "$$\\newline$$"
   ]
  },
  {
   "cell_type": "markdown",
   "id": "11d15b20-e339-46b2-bf82-1034e3abf696",
   "metadata": {},
   "source": [
    "$\\Large\\textbf{Section 1: Analysis 1}$"
   ]
  },
  {
   "cell_type": "markdown",
   "id": "b42a7b0c-6e0b-4fbe-8afe-9da086cddf81",
   "metadata": {},
   "source": [
    "> **1.1:** Data Load In\n",
    "\n",
    "> **1.2:** Regression Model 1\n",
    "\n",
    "> **1.3:** Regression Model 2\n",
    "\n",
    "> **1.4:** Brief Explanation\n",
    "\n",
    "> **1.5:** Bootstrap\n",
    "\n",
    "> **1.6:** Resampled Regression Model 1\n",
    "\n",
    "> **1.7:** Resampled Regression Model 2\n",
    "\n",
    "> **1.8:** Difference in R2 Values"
   ]
  },
  {
   "cell_type": "markdown",
   "id": "2d2eee77-2568-4fbc-ad50-24a260c13271",
   "metadata": {},
   "source": [
    "Section 1 details the results of analysis 1. Regression models are fitted for the birth rate of humans against different predictor variables. The dataframe is resampled and run through a bootstrap to improve reliability of results further. The difference in R2 values is explored and a regression plot that better predicts the birth rate is determined."
   ]
  },
  {
   "cell_type": "markdown",
   "id": "8be7d32d-e7bc-4d5f-9e2e-0e19ba2727ef",
   "metadata": {},
   "source": [
    "$$\\newline$$"
   ]
  },
  {
   "cell_type": "markdown",
   "id": "162aad28-9005-48a0-b4c4-46e1a61b2877",
   "metadata": {},
   "source": [
    "$\\large\\textbf{1.1: Data Load In}$"
   ]
  },
  {
   "cell_type": "code",
   "execution_count": 1,
   "id": "8eadbba4-2d8c-4730-92f2-318a6474b718",
   "metadata": {},
   "outputs": [],
   "source": [
    "import pandas as pd\n",
    "import numpy as np\n",
    "import matplotlib.pyplot as plt\n",
    "import seaborn as sns\n",
    "import matplotlib as mpl\n",
    "import scipy.stats as sci\n",
    "from scipy.stats import chisquare\n",
    "from sklearn.metrics import mean_squared_error\n",
    "from sklearn.linear_model import LinearRegression\n",
    "from sklearn.metrics import mean_squared_error\n",
    "from sklearn.preprocessing import StandardScaler\n",
    "from sklearn.utils import resample\n",
    "%matplotlib inline"
   ]
  },
  {
   "cell_type": "markdown",
   "id": "548ce8ed-552c-400a-a2b2-96229709b506",
   "metadata": {},
   "source": [
    "The storks dataset is loaded in"
   ]
  },
  {
   "cell_type": "code",
   "execution_count": 2,
   "id": "2c77bea2-156b-4074-9e6c-84d8c76e4383",
   "metadata": {},
   "outputs": [
    {
     "data": {
      "text/html": [
       "<div>\n",
       "<style scoped>\n",
       "    .dataframe tbody tr th:only-of-type {\n",
       "        vertical-align: middle;\n",
       "    }\n",
       "\n",
       "    .dataframe tbody tr th {\n",
       "        vertical-align: top;\n",
       "    }\n",
       "\n",
       "    .dataframe thead th {\n",
       "        text-align: right;\n",
       "    }\n",
       "</style>\n",
       "<table border=\"1\" class=\"dataframe\">\n",
       "  <thead>\n",
       "    <tr style=\"text-align: right;\">\n",
       "      <th></th>\n",
       "      <th>Country</th>\n",
       "      <th>Area</th>\n",
       "      <th>Storks</th>\n",
       "      <th>Humans</th>\n",
       "      <th>BirthRate</th>\n",
       "      <th>SuitableAreaPercent</th>\n",
       "    </tr>\n",
       "  </thead>\n",
       "  <tbody>\n",
       "    <tr>\n",
       "      <th>0</th>\n",
       "      <td>Albania</td>\n",
       "      <td>28750</td>\n",
       "      <td>100</td>\n",
       "      <td>3.2</td>\n",
       "      <td>83</td>\n",
       "      <td>55.68</td>\n",
       "    </tr>\n",
       "    <tr>\n",
       "      <th>1</th>\n",
       "      <td>Austria</td>\n",
       "      <td>83860</td>\n",
       "      <td>300</td>\n",
       "      <td>7.6</td>\n",
       "      <td>87</td>\n",
       "      <td>38.34</td>\n",
       "    </tr>\n",
       "    <tr>\n",
       "      <th>2</th>\n",
       "      <td>Belgium</td>\n",
       "      <td>30520</td>\n",
       "      <td>1</td>\n",
       "      <td>9.9</td>\n",
       "      <td>118</td>\n",
       "      <td>65.93</td>\n",
       "    </tr>\n",
       "    <tr>\n",
       "      <th>3</th>\n",
       "      <td>Bulgaria</td>\n",
       "      <td>111000</td>\n",
       "      <td>5000</td>\n",
       "      <td>9.0</td>\n",
       "      <td>117</td>\n",
       "      <td>57.99</td>\n",
       "    </tr>\n",
       "    <tr>\n",
       "      <th>4</th>\n",
       "      <td>Denmark</td>\n",
       "      <td>43100</td>\n",
       "      <td>9</td>\n",
       "      <td>5.1</td>\n",
       "      <td>59</td>\n",
       "      <td>81.46</td>\n",
       "    </tr>\n",
       "    <tr>\n",
       "      <th>5</th>\n",
       "      <td>France</td>\n",
       "      <td>544000</td>\n",
       "      <td>140</td>\n",
       "      <td>56.0</td>\n",
       "      <td>774</td>\n",
       "      <td>58.47</td>\n",
       "    </tr>\n",
       "    <tr>\n",
       "      <th>6</th>\n",
       "      <td>Germany</td>\n",
       "      <td>357000</td>\n",
       "      <td>3300</td>\n",
       "      <td>78.0</td>\n",
       "      <td>901</td>\n",
       "      <td>59.81</td>\n",
       "    </tr>\n",
       "    <tr>\n",
       "      <th>7</th>\n",
       "      <td>Greece</td>\n",
       "      <td>132000</td>\n",
       "      <td>2500</td>\n",
       "      <td>10.0</td>\n",
       "      <td>106</td>\n",
       "      <td>47.31</td>\n",
       "    </tr>\n",
       "    <tr>\n",
       "      <th>8</th>\n",
       "      <td>Holland</td>\n",
       "      <td>41900</td>\n",
       "      <td>4</td>\n",
       "      <td>15.0</td>\n",
       "      <td>188</td>\n",
       "      <td>70.96</td>\n",
       "    </tr>\n",
       "    <tr>\n",
       "      <th>9</th>\n",
       "      <td>Hungary</td>\n",
       "      <td>93000</td>\n",
       "      <td>5000</td>\n",
       "      <td>11.0</td>\n",
       "      <td>124</td>\n",
       "      <td>75.86</td>\n",
       "    </tr>\n",
       "    <tr>\n",
       "      <th>10</th>\n",
       "      <td>Italy</td>\n",
       "      <td>301280</td>\n",
       "      <td>5</td>\n",
       "      <td>57.0</td>\n",
       "      <td>551</td>\n",
       "      <td>60.30</td>\n",
       "    </tr>\n",
       "    <tr>\n",
       "      <th>11</th>\n",
       "      <td>Poland</td>\n",
       "      <td>312680</td>\n",
       "      <td>30000</td>\n",
       "      <td>38.0</td>\n",
       "      <td>610</td>\n",
       "      <td>64.09</td>\n",
       "    </tr>\n",
       "    <tr>\n",
       "      <th>12</th>\n",
       "      <td>Portugal</td>\n",
       "      <td>92390</td>\n",
       "      <td>1500</td>\n",
       "      <td>10.0</td>\n",
       "      <td>120</td>\n",
       "      <td>52.51</td>\n",
       "    </tr>\n",
       "    <tr>\n",
       "      <th>13</th>\n",
       "      <td>Romania</td>\n",
       "      <td>237500</td>\n",
       "      <td>5000</td>\n",
       "      <td>23.0</td>\n",
       "      <td>367</td>\n",
       "      <td>62.49</td>\n",
       "    </tr>\n",
       "    <tr>\n",
       "      <th>14</th>\n",
       "      <td>Spain</td>\n",
       "      <td>504750</td>\n",
       "      <td>8000</td>\n",
       "      <td>39.0</td>\n",
       "      <td>439</td>\n",
       "      <td>59.57</td>\n",
       "    </tr>\n",
       "    <tr>\n",
       "      <th>15</th>\n",
       "      <td>Switzerland</td>\n",
       "      <td>41290</td>\n",
       "      <td>150</td>\n",
       "      <td>6.7</td>\n",
       "      <td>82</td>\n",
       "      <td>43.19</td>\n",
       "    </tr>\n",
       "    <tr>\n",
       "      <th>16</th>\n",
       "      <td>Turkey</td>\n",
       "      <td>779450</td>\n",
       "      <td>25000</td>\n",
       "      <td>56.0</td>\n",
       "      <td>1576</td>\n",
       "      <td>65.97</td>\n",
       "    </tr>\n",
       "  </tbody>\n",
       "</table>\n",
       "</div>"
      ],
      "text/plain": [
       "        Country    Area  Storks  Humans  BirthRate  SuitableAreaPercent\n",
       "0       Albania   28750     100     3.2         83                55.68\n",
       "1       Austria   83860     300     7.6         87                38.34\n",
       "2       Belgium   30520       1     9.9        118                65.93\n",
       "3      Bulgaria  111000    5000     9.0        117                57.99\n",
       "4       Denmark   43100       9     5.1         59                81.46\n",
       "5        France  544000     140    56.0        774                58.47\n",
       "6       Germany  357000    3300    78.0        901                59.81\n",
       "7        Greece  132000    2500    10.0        106                47.31\n",
       "8       Holland   41900       4    15.0        188                70.96\n",
       "9       Hungary   93000    5000    11.0        124                75.86\n",
       "10        Italy  301280       5    57.0        551                60.30\n",
       "11       Poland  312680   30000    38.0        610                64.09\n",
       "12     Portugal   92390    1500    10.0        120                52.51\n",
       "13      Romania  237500    5000    23.0        367                62.49\n",
       "14        Spain  504750    8000    39.0        439                59.57\n",
       "15  Switzerland   41290     150     6.7         82                43.19\n",
       "16       Turkey  779450   25000    56.0       1576                65.97"
      ]
     },
     "execution_count": 2,
     "metadata": {},
     "output_type": "execute_result"
    }
   ],
   "source": [
    "df = pd.read_csv('storks.csv')\n",
    "df"
   ]
  },
  {
   "cell_type": "markdown",
   "id": "a979be8c-dc02-408a-9f31-292550aeaba4",
   "metadata": {},
   "source": [
    "$$\\newline$$"
   ]
  },
  {
   "cell_type": "markdown",
   "id": "c06419ea-3364-4581-80a6-b99f6a257956",
   "metadata": {},
   "source": [
    "$\\large\\textbf{1.2: Regression Model 1}$"
   ]
  },
  {
   "cell_type": "markdown",
   "id": "bf2d5955-c276-4cd0-9d1b-74c0432304f0",
   "metadata": {},
   "source": [
    "The first regression model shows the target variable of the human birth rate against the predictor variable the number of stork pairs."
   ]
  },
  {
   "cell_type": "code",
   "execution_count": 3,
   "id": "bc5213c1-a2cb-42d1-a081-339039e200b4",
   "metadata": {},
   "outputs": [],
   "source": [
    "y_BR = df[['BirthRate']].to_numpy()   # this is the target variable; we assue just one though more are possible\n",
    "X_storks = df[['Storks']].to_numpy()"
   ]
  },
  {
   "cell_type": "code",
   "execution_count": 4,
   "id": "830bf5f8-08d1-4294-bf48-8fdf37beea37",
   "metadata": {},
   "outputs": [],
   "source": [
    "reg_storks_BR = LinearRegression().fit(X_storks, y_BR)"
   ]
  },
  {
   "cell_type": "code",
   "execution_count": 5,
   "id": "4b8302b2-9d09-4e00-9457-cfeeea7bf428",
   "metadata": {},
   "outputs": [],
   "source": [
    "y_hat_storks = reg_storks_BR.predict(X_storks)"
   ]
  },
  {
   "cell_type": "code",
   "execution_count": 6,
   "id": "9cec2b74-5ef0-4f78-b224-705876fa565c",
   "metadata": {},
   "outputs": [
    {
     "data": {
      "image/png": "[encoded data removed]",
      "text/plain": [
       "<Figure size 864x576 with 1 Axes>"
      ]
     },
     "metadata": {
      "needs_background": "light"
     },
     "output_type": "display_data"
    }
   ],
   "source": [
    "fig, a = plt.subplots(1,1,figsize=(12,8))\n",
    "a.scatter(X_storks, y_BR,  color='black', alpha=1, s=10)\n",
    "a.plot(X_storks, y_hat_storks, color='blue', linewidth=1)\n",
    "\n",
    "a.set_xlabel('Number of Stork Pairs')\n",
    "a.set_ylabel('Birth Rate')\n",
    "plt.show()"
   ]
  },
  {
   "cell_type": "code",
   "execution_count": 7,
   "id": "07b9e3e1-aa89-42e7-a993-a2c92e826e34",
   "metadata": {},
   "outputs": [
    {
     "name": "stdout",
     "output_type": "stream",
     "text": [
      "The R2 coefficient of determination is 0.385\n",
      "The intercept is 225.0\n",
      "Estimated regression coefficient for Stork Population is 0.03 \n"
     ]
    }
   ],
   "source": [
    "print('The R2 coefficient of determination is %4.3f' % reg_storks_BR.score(X_storks, y_BR))\n",
    "print('The intercept is %4.1f' % reg_storks_BR.intercept_)\n",
    "beta_storks = reg_storks_BR.coef_\n",
    "print('Estimated regression coefficient for Stork Population is %4.2f' % beta_storks, '')"
   ]
  },
  {
   "cell_type": "markdown",
   "id": "a9b0c75e-04a5-42e1-890c-4c19924774a1",
   "metadata": {},
   "source": [
    "$$\\newline$$"
   ]
  },
  {
   "cell_type": "markdown",
   "id": "62a1c48d-6dfd-495d-8f2b-adffd68a606a",
   "metadata": {},
   "source": [
    "$\\large\\textbf{1.3: Regression Model 2}$"
   ]
  },
  {
   "cell_type": "markdown",
   "id": "b33e2165-0b58-46a1-bb49-57891362012d",
   "metadata": {},
   "source": [
    "The second regression model shows the target variable of the human birth rate against the predictor variable the number of humans."
   ]
  },
  {
   "cell_type": "code",
   "execution_count": 8,
   "id": "f705c95a-6223-45c1-9f5c-7b9b6e2cbc21",
   "metadata": {},
   "outputs": [],
   "source": [
    "y_BR = df[['BirthRate']].to_numpy()   # this is the target variable; we assue just one though more are possible\n",
    "X_humans = df[['Humans']].to_numpy()"
   ]
  },
  {
   "cell_type": "code",
   "execution_count": 9,
   "id": "6b2a3fb4-3e3d-4d5f-b5f1-fd822982406c",
   "metadata": {},
   "outputs": [],
   "source": [
    "reg_humans_BR = LinearRegression().fit(X_humans, y_BR)"
   ]
  },
  {
   "cell_type": "code",
   "execution_count": 10,
   "id": "0283a739-ee29-4cb5-a1a3-2f21a4f4b080",
   "metadata": {},
   "outputs": [],
   "source": [
    "y_hat_humans = reg_humans_BR.predict(X_humans)"
   ]
  },
  {
   "cell_type": "code",
   "execution_count": 11,
   "id": "4b0f0e40-42e0-4b98-8187-6773a8607819",
   "metadata": {},
   "outputs": [
    {
     "data": {
      "image/png": "[encoded data removed]",
      "text/plain": [
       "<Figure size 864x576 with 1 Axes>"
      ]
     },
     "metadata": {
      "needs_background": "light"
     },
     "output_type": "display_data"
    }
   ],
   "source": [
    "fig, a2 = plt.subplots(1,1,figsize=(12,8))\n",
    "a2.scatter(X_humans, y_BR,  color='black', alpha=1, s=10)\n",
    "a2.plot(X_humans, y_hat_humans, color='blue', linewidth=1)\n",
    "\n",
    "a2.set_xlabel('Humans (1E6)')\n",
    "a2.set_ylabel('Birth Rate')\n",
    "plt.show()"
   ]
  },
  {
   "cell_type": "code",
   "execution_count": 12,
   "id": "42570a3d-ce54-4371-8c67-a7a167f8f53d",
   "metadata": {},
   "outputs": [
    {
     "name": "stdout",
     "output_type": "stream",
     "text": [
      "The R2 coefficient of determination is 0.725\n",
      "The intercept is -8.4\n",
      "Estimated regression coefficient for Population Size is 14.83 \n"
     ]
    }
   ],
   "source": [
    "print('The R2 coefficient of determination is %4.3f' % reg_humans_BR.score(X_humans, y_BR))\n",
    "print('The intercept is %4.1f' % reg_humans_BR.intercept_)\n",
    "beta_humans = reg_humans_BR.coef_\n",
    "print('Estimated regression coefficient for Population Size is %4.2f' % beta_humans, '')"
   ]
  },
  {
   "cell_type": "markdown",
   "id": "28bb6e80-55bc-4c34-8260-78d310827a53",
   "metadata": {},
   "source": [
    "$$\\newline$$"
   ]
  },
  {
   "cell_type": "markdown",
   "id": "ee6b0b73-c771-4f30-9605-59f8588c6599",
   "metadata": {},
   "source": [
    "$\\large\\textbf{1.4: Brief Explanation}$"
   ]
  },
  {
   "cell_type": "markdown",
   "id": "aefe1654-72c6-41b2-9eed-91df9d0b2dac",
   "metadata": {},
   "source": [
    "The above plots show a positive correlation between the birth rate of humans, and the number of humans or stalks. The R2 coefficient of the storks plot of 0.385 suggests the regression line is not fitted well to the data. However the humans R2 coefficient of 0.725 shows the data is fitted to the regression line quite well."
   ]
  },
  {
   "cell_type": "markdown",
   "id": "133a4d50-3e2d-48e8-8239-7ac7878acd2a",
   "metadata": {},
   "source": [
    "$$\\newline$$"
   ]
  },
  {
   "cell_type": "markdown",
   "id": "0bc244e8-4c6f-4879-84f5-87d6fb988e1d",
   "metadata": {},
   "source": [
    "$\\large\\textbf{1.5: Bootstrap}$"
   ]
  },
  {
   "cell_type": "markdown",
   "id": "c3a9abcc-d005-4cf7-83f1-6b00f89fe969",
   "metadata": {},
   "source": [
    "A bootstrap is set up to resample the data, repeating n times."
   ]
  },
  {
   "cell_type": "code",
   "execution_count": 13,
   "id": "6add720c-eb8c-4b8b-a76b-5ed19c563024",
   "metadata": {},
   "outputs": [],
   "source": [
    "def bootstrap(data, repeats):\n",
    "    \n",
    "    # Input chosen data\n",
    "    result = pd.DataFrame(data)\n",
    "    \n",
    "    # Resample input data X times, default is to resample same size \n",
    "    for i in range(0, repeats):\n",
    "        result = resample(data)\n",
    "    return result"
   ]
  },
  {
   "cell_type": "markdown",
   "id": "a34bd59d-2b4a-4a33-9e53-8d15e059648d",
   "metadata": {},
   "source": [
    "For each resampled dataframe, the below function is applied to them."
   ]
  },
  {
   "cell_type": "code",
   "execution_count": 14,
   "id": "d2a3b47b-b7ed-4a5c-9409-dba6624800c0",
   "metadata": {},
   "outputs": [],
   "source": [
    "def regression_boot(df_boot):\n",
    "    \n",
    "    # Column values of sampled dataframes (storks and humans)\n",
    "    y_rep = df_boot[['BirthRate']].to_numpy() \n",
    "    X_rep = df_boot[['Storks']].to_numpy()\n",
    "    X_2_rep = df_boot[['Humans']].to_numpy()\n",
    "    \n",
    "    # Linear regression of sampled dataframes\n",
    "    reg_R2_storks = LinearRegression().fit(X_rep, y_rep)\n",
    "    reg_R2_humans = LinearRegression().fit(X_2_rep, y_rep)\n",
    "    \n",
    "    # Regression values for sampled dataframe\n",
    "    v1 = reg_R2_storks.score(X_rep, y_rep)\n",
    "    v2 = reg_R2_humans.score(X_2_rep, y_rep)\n",
    "    \n",
    "    # R2 value difference between two above regressions\n",
    "    R2_diff = v2-v1\n",
    "    \n",
    "    return R2_diff"
   ]
  },
  {
   "cell_type": "markdown",
   "id": "5453fae6-df9f-4acf-99aa-9d07f38d69e6",
   "metadata": {},
   "source": [
    "The new resampled dataframe is shown below"
   ]
  },
  {
   "cell_type": "code",
   "execution_count": 15,
   "id": "597e946f-d97f-4cd1-b1f5-1f8ccdf60937",
   "metadata": {},
   "outputs": [
    {
     "data": {
      "text/html": [
       "<div>\n",
       "<style scoped>\n",
       "    .dataframe tbody tr th:only-of-type {\n",
       "        vertical-align: middle;\n",
       "    }\n",
       "\n",
       "    .dataframe tbody tr th {\n",
       "        vertical-align: top;\n",
       "    }\n",
       "\n",
       "    .dataframe thead th {\n",
       "        text-align: right;\n",
       "    }\n",
       "</style>\n",
       "<table border=\"1\" class=\"dataframe\">\n",
       "  <thead>\n",
       "    <tr style=\"text-align: right;\">\n",
       "      <th></th>\n",
       "      <th>Country</th>\n",
       "      <th>Area</th>\n",
       "      <th>Storks</th>\n",
       "      <th>Humans</th>\n",
       "      <th>BirthRate</th>\n",
       "      <th>SuitableAreaPercent</th>\n",
       "    </tr>\n",
       "  </thead>\n",
       "  <tbody>\n",
       "    <tr>\n",
       "      <th>15</th>\n",
       "      <td>Switzerland</td>\n",
       "      <td>41290</td>\n",
       "      <td>150</td>\n",
       "      <td>6.7</td>\n",
       "      <td>82</td>\n",
       "      <td>43.19</td>\n",
       "    </tr>\n",
       "    <tr>\n",
       "      <th>11</th>\n",
       "      <td>Poland</td>\n",
       "      <td>312680</td>\n",
       "      <td>30000</td>\n",
       "      <td>38.0</td>\n",
       "      <td>610</td>\n",
       "      <td>64.09</td>\n",
       "    </tr>\n",
       "    <tr>\n",
       "      <th>12</th>\n",
       "      <td>Portugal</td>\n",
       "      <td>92390</td>\n",
       "      <td>1500</td>\n",
       "      <td>10.0</td>\n",
       "      <td>120</td>\n",
       "      <td>52.51</td>\n",
       "    </tr>\n",
       "    <tr>\n",
       "      <th>6</th>\n",
       "      <td>Germany</td>\n",
       "      <td>357000</td>\n",
       "      <td>3300</td>\n",
       "      <td>78.0</td>\n",
       "      <td>901</td>\n",
       "      <td>59.81</td>\n",
       "    </tr>\n",
       "    <tr>\n",
       "      <th>8</th>\n",
       "      <td>Holland</td>\n",
       "      <td>41900</td>\n",
       "      <td>4</td>\n",
       "      <td>15.0</td>\n",
       "      <td>188</td>\n",
       "      <td>70.96</td>\n",
       "    </tr>\n",
       "    <tr>\n",
       "      <th>9</th>\n",
       "      <td>Hungary</td>\n",
       "      <td>93000</td>\n",
       "      <td>5000</td>\n",
       "      <td>11.0</td>\n",
       "      <td>124</td>\n",
       "      <td>75.86</td>\n",
       "    </tr>\n",
       "    <tr>\n",
       "      <th>8</th>\n",
       "      <td>Holland</td>\n",
       "      <td>41900</td>\n",
       "      <td>4</td>\n",
       "      <td>15.0</td>\n",
       "      <td>188</td>\n",
       "      <td>70.96</td>\n",
       "    </tr>\n",
       "    <tr>\n",
       "      <th>12</th>\n",
       "      <td>Portugal</td>\n",
       "      <td>92390</td>\n",
       "      <td>1500</td>\n",
       "      <td>10.0</td>\n",
       "      <td>120</td>\n",
       "      <td>52.51</td>\n",
       "    </tr>\n",
       "    <tr>\n",
       "      <th>12</th>\n",
       "      <td>Portugal</td>\n",
       "      <td>92390</td>\n",
       "      <td>1500</td>\n",
       "      <td>10.0</td>\n",
       "      <td>120</td>\n",
       "      <td>52.51</td>\n",
       "    </tr>\n",
       "    <tr>\n",
       "      <th>10</th>\n",
       "      <td>Italy</td>\n",
       "      <td>301280</td>\n",
       "      <td>5</td>\n",
       "      <td>57.0</td>\n",
       "      <td>551</td>\n",
       "      <td>60.30</td>\n",
       "    </tr>\n",
       "    <tr>\n",
       "      <th>5</th>\n",
       "      <td>France</td>\n",
       "      <td>544000</td>\n",
       "      <td>140</td>\n",
       "      <td>56.0</td>\n",
       "      <td>774</td>\n",
       "      <td>58.47</td>\n",
       "    </tr>\n",
       "    <tr>\n",
       "      <th>15</th>\n",
       "      <td>Switzerland</td>\n",
       "      <td>41290</td>\n",
       "      <td>150</td>\n",
       "      <td>6.7</td>\n",
       "      <td>82</td>\n",
       "      <td>43.19</td>\n",
       "    </tr>\n",
       "    <tr>\n",
       "      <th>8</th>\n",
       "      <td>Holland</td>\n",
       "      <td>41900</td>\n",
       "      <td>4</td>\n",
       "      <td>15.0</td>\n",
       "      <td>188</td>\n",
       "      <td>70.96</td>\n",
       "    </tr>\n",
       "    <tr>\n",
       "      <th>13</th>\n",
       "      <td>Romania</td>\n",
       "      <td>237500</td>\n",
       "      <td>5000</td>\n",
       "      <td>23.0</td>\n",
       "      <td>367</td>\n",
       "      <td>62.49</td>\n",
       "    </tr>\n",
       "    <tr>\n",
       "      <th>8</th>\n",
       "      <td>Holland</td>\n",
       "      <td>41900</td>\n",
       "      <td>4</td>\n",
       "      <td>15.0</td>\n",
       "      <td>188</td>\n",
       "      <td>70.96</td>\n",
       "    </tr>\n",
       "    <tr>\n",
       "      <th>0</th>\n",
       "      <td>Albania</td>\n",
       "      <td>28750</td>\n",
       "      <td>100</td>\n",
       "      <td>3.2</td>\n",
       "      <td>83</td>\n",
       "      <td>55.68</td>\n",
       "    </tr>\n",
       "    <tr>\n",
       "      <th>7</th>\n",
       "      <td>Greece</td>\n",
       "      <td>132000</td>\n",
       "      <td>2500</td>\n",
       "      <td>10.0</td>\n",
       "      <td>106</td>\n",
       "      <td>47.31</td>\n",
       "    </tr>\n",
       "  </tbody>\n",
       "</table>\n",
       "</div>"
      ],
      "text/plain": [
       "        Country    Area  Storks  Humans  BirthRate  SuitableAreaPercent\n",
       "15  Switzerland   41290     150     6.7         82                43.19\n",
       "11       Poland  312680   30000    38.0        610                64.09\n",
       "12     Portugal   92390    1500    10.0        120                52.51\n",
       "6       Germany  357000    3300    78.0        901                59.81\n",
       "8       Holland   41900       4    15.0        188                70.96\n",
       "9       Hungary   93000    5000    11.0        124                75.86\n",
       "8       Holland   41900       4    15.0        188                70.96\n",
       "12     Portugal   92390    1500    10.0        120                52.51\n",
       "12     Portugal   92390    1500    10.0        120                52.51\n",
       "10        Italy  301280       5    57.0        551                60.30\n",
       "5        France  544000     140    56.0        774                58.47\n",
       "15  Switzerland   41290     150     6.7         82                43.19\n",
       "8       Holland   41900       4    15.0        188                70.96\n",
       "13      Romania  237500    5000    23.0        367                62.49\n",
       "8       Holland   41900       4    15.0        188                70.96\n",
       "0       Albania   28750     100     3.2         83                55.68\n",
       "7        Greece  132000    2500    10.0        106                47.31"
      ]
     },
     "execution_count": 15,
     "metadata": {},
     "output_type": "execute_result"
    }
   ],
   "source": [
    "df_boot = bootstrap(df, 100)\n",
    "df_boot"
   ]
  },
  {
   "cell_type": "markdown",
   "id": "c8bcfed6-f15a-499b-a578-2d692b2b1971",
   "metadata": {},
   "source": [
    "$$\\newline$$"
   ]
  },
  {
   "cell_type": "markdown",
   "id": "15b648a5-00e2-4c8a-ac93-050ab27a4041",
   "metadata": {},
   "source": [
    "$\\large\\textbf{1.6: Resampled Regression Model 1}$"
   ]
  },
  {
   "cell_type": "markdown",
   "id": "e6cc0684-6072-452e-bd01-1ccaee5cb791",
   "metadata": {},
   "source": [
    "The regression model from section 1.2 is re-plotted with a resampled dataframe"
   ]
  },
  {
   "cell_type": "code",
   "execution_count": 16,
   "id": "84c690d6-8f30-4ff0-b69a-25acbcaa1e22",
   "metadata": {},
   "outputs": [],
   "source": [
    "y_BR_boot = df_boot[['BirthRate']].to_numpy()\n",
    "X_storks_boot = df_boot[['Storks']].to_numpy()\n",
    "X_humans_boot = df_boot[['Humans']].to_numpy()"
   ]
  },
  {
   "cell_type": "code",
   "execution_count": 17,
   "id": "b1da8de6-8f6f-43e1-9869-c3466926af5b",
   "metadata": {},
   "outputs": [],
   "source": [
    "reg_boot_storks = LinearRegression().fit(X_storks_boot, y_BR_boot)"
   ]
  },
  {
   "cell_type": "code",
   "execution_count": 18,
   "id": "3d163397-17b6-48aa-93a9-127dd85b2e50",
   "metadata": {},
   "outputs": [],
   "source": [
    "y_hat_boot_storks = reg_boot_storks.predict(X_storks_boot)"
   ]
  },
  {
   "cell_type": "code",
   "execution_count": 19,
   "id": "5df2d3fe-433c-48c7-bb70-1c5c43e2eca7",
   "metadata": {
    "tags": []
   },
   "outputs": [
    {
     "data": {
      "image/png": "[encoded data removed]",
      "text/plain": [
       "<Figure size 864x576 with 1 Axes>"
      ]
     },
     "metadata": {
      "needs_background": "light"
     },
     "output_type": "display_data"
    }
   ],
   "source": [
    "fig, a3 = plt.subplots(1,1,figsize=(12,8))\n",
    "a3.scatter(X_storks_boot, y_BR_boot,  color='black', alpha=1, s=10)\n",
    "a3.plot(X_storks_boot, y_hat_boot_storks, color='blue', linewidth=1)\n",
    "\n",
    "a3.set_xlabel('Number of Stork Pairs')\n",
    "a3.set_ylabel('Birth Rate')\n",
    "plt.show()"
   ]
  },
  {
   "cell_type": "code",
   "execution_count": 20,
   "id": "2bc1e2cd-569e-4550-bee2-93c05910b2fa",
   "metadata": {},
   "outputs": [
    {
     "name": "stdout",
     "output_type": "stream",
     "text": [
      "The R2 coefficient of determination is 0.118\n",
      "The intercept is 244.2\n",
      "Estimated regression coefficient for Population Size is 0.01 \n"
     ]
    }
   ],
   "source": [
    "print('The R2 coefficient of determination is %4.3f' % reg_boot_storks.score(X_storks_boot, y_BR_boot))\n",
    "print('The intercept is %4.1f' % reg_boot_storks.intercept_)\n",
    "beta_boot_storks = reg_boot_storks.coef_\n",
    "print('Estimated regression coefficient for Population Size is %4.2f' % beta_boot_storks, '')"
   ]
  },
  {
   "cell_type": "markdown",
   "id": "4fb40635-19d8-48c4-85ee-5af77cbb56e6",
   "metadata": {},
   "source": [
    "$$\\newline$$"
   ]
  },
  {
   "cell_type": "markdown",
   "id": "68037535-e7a0-44d4-bbcb-a09c36889a01",
   "metadata": {},
   "source": [
    "$\\large\\textbf{1.7: Resampled Regression Model 2}$"
   ]
  },
  {
   "cell_type": "markdown",
   "id": "b7699fe9-eb78-417a-9d86-61da91b774cd",
   "metadata": {},
   "source": [
    "The regression model from section 1.3 is re-plotted with a resampled dataframe"
   ]
  },
  {
   "cell_type": "code",
   "execution_count": 21,
   "id": "14d34b07-11be-4f56-817a-e73f089ac594",
   "metadata": {},
   "outputs": [],
   "source": [
    "reg_boot_humans = LinearRegression().fit(X_humans_boot, y_BR_boot)"
   ]
  },
  {
   "cell_type": "code",
   "execution_count": 22,
   "id": "9c162284-4891-4b3b-b964-23434c27ce8e",
   "metadata": {},
   "outputs": [],
   "source": [
    "y_hat_boot_humans = reg_boot_humans.predict(X_humans_boot)"
   ]
  },
  {
   "cell_type": "code",
   "execution_count": 23,
   "id": "9d00f97f-d4e3-4060-9bd8-6121a711a645",
   "metadata": {},
   "outputs": [
    {
     "data": {
      "image/png": "[encoded data removed]",
      "text/plain": [
       "<Figure size 864x576 with 1 Axes>"
      ]
     },
     "metadata": {
      "needs_background": "light"
     },
     "output_type": "display_data"
    }
   ],
   "source": [
    "fig, a4 = plt.subplots(1,1,figsize=(12,8))\n",
    "a4.scatter(X_humans_boot, y_BR_boot,  color='black', alpha=1, s=10)\n",
    "a4.plot(X_humans_boot, y_hat_boot_humans, color='blue', linewidth=1)\n",
    "\n",
    "a4.set_xlabel('Humans')\n",
    "a4.set_ylabel('Birth Rate')\n",
    "plt.show()"
   ]
  },
  {
   "cell_type": "code",
   "execution_count": 24,
   "id": "889edbf5-be06-42c7-9956-3dd78af2b4cc",
   "metadata": {},
   "outputs": [
    {
     "name": "stdout",
     "output_type": "stream",
     "text": [
      "The R2 coefficient of determination is 0.945\n",
      "The intercept is 18.5\n",
      "Estimated regression coefficient for Population Size is 11.80 \n"
     ]
    }
   ],
   "source": [
    "print('The R2 coefficient of determination is %4.3f' % reg_boot_humans.score(X_humans_boot, y_BR_boot))\n",
    "print('The intercept is %4.1f' % reg_boot_humans.intercept_)\n",
    "beta_boot_humans = reg_boot_humans.coef_\n",
    "print('Estimated regression coefficient for Population Size is %4.2f' % beta_boot_humans, '')"
   ]
  },
  {
   "cell_type": "markdown",
   "id": "39ffb7d4-8eee-4814-89c3-9c6562f3b7e2",
   "metadata": {},
   "source": [
    "$$\\newline$$"
   ]
  },
  {
   "cell_type": "markdown",
   "id": "aa70d30f-e5ce-41c8-9c46-dd2984c8cd1d",
   "metadata": {},
   "source": [
    "$\\large\\textbf{1.8: Difference in R2 Values}$"
   ]
  },
  {
   "cell_type": "markdown",
   "id": "d1229908-4082-4835-bb3c-df98faf34cd4",
   "metadata": {},
   "source": [
    "The regression models are plotted numerous times, their R2 values determined and their differences are found. The below for loop determines the R2 difference for each resampled dataframes regression 1 and 2."
   ]
  },
  {
   "cell_type": "code",
   "execution_count": 25,
   "id": "3ed2a414-11cb-4c91-9dd7-39082a07492a",
   "metadata": {},
   "outputs": [],
   "source": [
    "data_store = []\n",
    "\n",
    "for i in range(500):\n",
    "    \n",
    "    # Bootstrap dataframes\n",
    "    df_boot = bootstrap(df, 100)\n",
    "    \n",
    "    # Run bootstrap through regression bootstrap function\n",
    "    reg_boot = regression_boot(df_boot).round(3)\n",
    "    data_store.append([reg_boot])"
   ]
  },
  {
   "cell_type": "code",
   "execution_count": 26,
   "id": "c389f1a2-c7bb-495f-94e1-1403e3ba06c8",
   "metadata": {},
   "outputs": [
    {
     "data": {
      "text/html": [
       "<div>\n",
       "<style scoped>\n",
       "    .dataframe tbody tr th:only-of-type {\n",
       "        vertical-align: middle;\n",
       "    }\n",
       "\n",
       "    .dataframe tbody tr th {\n",
       "        vertical-align: top;\n",
       "    }\n",
       "\n",
       "    .dataframe thead th {\n",
       "        text-align: right;\n",
       "    }\n",
       "</style>\n",
       "<table border=\"1\" class=\"dataframe\">\n",
       "  <thead>\n",
       "    <tr style=\"text-align: right;\">\n",
       "      <th></th>\n",
       "      <th>R2_Difference</th>\n",
       "    </tr>\n",
       "  </thead>\n",
       "  <tbody>\n",
       "    <tr>\n",
       "      <th>0</th>\n",
       "      <td>0.874</td>\n",
       "    </tr>\n",
       "    <tr>\n",
       "      <th>1</th>\n",
       "      <td>0.302</td>\n",
       "    </tr>\n",
       "    <tr>\n",
       "      <th>2</th>\n",
       "      <td>0.728</td>\n",
       "    </tr>\n",
       "    <tr>\n",
       "      <th>3</th>\n",
       "      <td>0.274</td>\n",
       "    </tr>\n",
       "    <tr>\n",
       "      <th>4</th>\n",
       "      <td>0.188</td>\n",
       "    </tr>\n",
       "    <tr>\n",
       "      <th>...</th>\n",
       "      <td>...</td>\n",
       "    </tr>\n",
       "    <tr>\n",
       "      <th>495</th>\n",
       "      <td>0.215</td>\n",
       "    </tr>\n",
       "    <tr>\n",
       "      <th>496</th>\n",
       "      <td>0.075</td>\n",
       "    </tr>\n",
       "    <tr>\n",
       "      <th>497</th>\n",
       "      <td>0.100</td>\n",
       "    </tr>\n",
       "    <tr>\n",
       "      <th>498</th>\n",
       "      <td>0.272</td>\n",
       "    </tr>\n",
       "    <tr>\n",
       "      <th>499</th>\n",
       "      <td>0.153</td>\n",
       "    </tr>\n",
       "  </tbody>\n",
       "</table>\n",
       "<p>500 rows × 1 columns</p>\n",
       "</div>"
      ],
      "text/plain": [
       "     R2_Difference\n",
       "0            0.874\n",
       "1            0.302\n",
       "2            0.728\n",
       "3            0.274\n",
       "4            0.188\n",
       "..             ...\n",
       "495          0.215\n",
       "496          0.075\n",
       "497          0.100\n",
       "498          0.272\n",
       "499          0.153\n",
       "\n",
       "[500 rows x 1 columns]"
      ]
     },
     "execution_count": 26,
     "metadata": {},
     "output_type": "execute_result"
    }
   ],
   "source": [
    "df_reg = pd.DataFrame(data_store, columns=['R2_Difference'])\n",
    "df_reg"
   ]
  },
  {
   "cell_type": "code",
   "execution_count": 27,
   "id": "86409a3d-8f11-4284-b878-ad87ddf9bd57",
   "metadata": {},
   "outputs": [
    {
     "data": {
      "image/png": "[encoded data removed]",
      "text/plain": [
       "<Figure size 864x576 with 1 Axes>"
      ]
     },
     "metadata": {
      "needs_background": "light"
     },
     "output_type": "display_data"
    }
   ],
   "source": [
    "fig = plt.figure(figsize = (12,8))\n",
    "ax1=fig.gca()\n",
    "\n",
    "df_reg.hist(ax=ax1, bins=50)\n",
    "\n",
    "plt.show()"
   ]
  },
  {
   "cell_type": "code",
   "execution_count": 28,
   "id": "3315e131-3a30-4682-8298-10342ed61c3c",
   "metadata": {},
   "outputs": [
    {
     "name": "stdout",
     "output_type": "stream",
     "text": [
      "R2 coefficient mean is 0.392, with 95% range is -0.083 to 0.914\n"
     ]
    }
   ],
   "source": [
    "print(\"R2 coefficient mean is %4.3f, with 95%% range is %4.3f to %4.3f\" %\n",
    "      (df_reg.mean(), df_reg['R2_Difference'].quantile(0.05), df_reg['R2_Difference'].quantile(0.95)))"
   ]
  },
  {
   "cell_type": "markdown",
   "id": "40ef70c3-9a71-4af4-8673-783bccbb435e",
   "metadata": {},
   "source": [
    "The above histogram shows the difference in the R2 values between the storks and humans plot. Taking the R2 value of the storks plot away from the R2 value of the humans plot results in a greater R2 difference, suggesting that the humans plot more of the variability than the storks model. The confidence intervals further confirm our confidence in this conclusion. The confidence interval is quite unstable, having a large range of close to 1. This suggests that the . This suggests the estimate is stable/"
   ]
  },
  {
   "cell_type": "markdown",
   "id": "387101f1-140a-4ab3-a487-540832fc1d4d",
   "metadata": {},
   "source": [
    "$$\\newline$$"
   ]
  },
  {
   "cell_type": "markdown",
   "id": "d5f62c04-33dd-48c3-b533-c1d1f68185ef",
   "metadata": {},
   "source": [
    "$\\Large\\textbf{Section 2: Analysis 2}$"
   ]
  },
  {
   "cell_type": "markdown",
   "id": "a6808115-5671-4a51-88eb-de074195a533",
   "metadata": {},
   "source": [
    "> **2.1:** Data Preparation\n",
    "\n",
    "> **2.2:** Regression Model 1\n",
    "\n",
    "> **2.3:** Regression Model 2\n",
    "\n",
    "> **2.4:** Brief Explanation\n",
    "\n",
    "> **2.5:** Bootstrap\n",
    "\n",
    "> **2.6:** Resampled Regression Model 1\n",
    "\n",
    "> **2.7:** Resampled Regression Model 2\n",
    "\n",
    "> **2.8:** Difference in RMSE Values"
   ]
  },
  {
   "cell_type": "markdown",
   "id": "b7bc3001-a63b-41fc-9a7e-53a4e089eb25",
   "metadata": {},
   "source": [
    "Section 2 details the results of analysis 2. Regression models are fitted for the number of stork pairs against different predictor variables. The dataframe is resampled and run through a bootstrap to improve reliability of results further. The difference in RMSE values is explored and a regression plot that better predicts the number of stork pairs is determined."
   ]
  },
  {
   "cell_type": "markdown",
   "id": "fb244a34-4844-4e17-a30a-1a3914c0d28e",
   "metadata": {},
   "source": [
    "$$\\newline$$"
   ]
  },
  {
   "cell_type": "markdown",
   "id": "07ee77c9-8a17-4ccc-ac42-8fba18492b31",
   "metadata": {},
   "source": [
    "$\\large\\textbf{2.1: Data Preparation}$"
   ]
  },
  {
   "cell_type": "markdown",
   "id": "a13f9a09-fcb1-4d51-a0dc-935b1091e38e",
   "metadata": {},
   "source": [
    "The data is prepared for analysis 2. The population density is determined by dividing the number of humans by the area. Then, the suitable area percentage is used to determine the suitable area of land available to storks."
   ]
  },
  {
   "cell_type": "code",
   "execution_count": 29,
   "id": "f527bec3-bc05-4efd-9cbf-70ed2a4b7304",
   "metadata": {},
   "outputs": [],
   "source": [
    "pop = ((df['Humans']*1000000)/df['Area']).round(1)"
   ]
  },
  {
   "cell_type": "code",
   "execution_count": 30,
   "id": "107d59c8-7a5e-4893-aa5d-1458a0a0bfff",
   "metadata": {},
   "outputs": [],
   "source": [
    "suit = ((df['SuitableAreaPercent']/100)*(df['Area']))"
   ]
  },
  {
   "cell_type": "code",
   "execution_count": 31,
   "id": "5cd482bd-24ce-4b4e-80ec-b4ed415038c5",
   "metadata": {},
   "outputs": [
    {
     "data": {
      "text/html": [
       "<div>\n",
       "<style scoped>\n",
       "    .dataframe tbody tr th:only-of-type {\n",
       "        vertical-align: middle;\n",
       "    }\n",
       "\n",
       "    .dataframe tbody tr th {\n",
       "        vertical-align: top;\n",
       "    }\n",
       "\n",
       "    .dataframe thead th {\n",
       "        text-align: right;\n",
       "    }\n",
       "</style>\n",
       "<table border=\"1\" class=\"dataframe\">\n",
       "  <thead>\n",
       "    <tr style=\"text-align: right;\">\n",
       "      <th></th>\n",
       "      <th>Country</th>\n",
       "      <th>Area</th>\n",
       "      <th>Storks</th>\n",
       "      <th>Humans</th>\n",
       "      <th>BirthRate</th>\n",
       "      <th>SuitableAreaPercent</th>\n",
       "      <th>PopDensity</th>\n",
       "      <th>SuitableArea</th>\n",
       "    </tr>\n",
       "  </thead>\n",
       "  <tbody>\n",
       "    <tr>\n",
       "      <th>0</th>\n",
       "      <td>Albania</td>\n",
       "      <td>28750</td>\n",
       "      <td>100</td>\n",
       "      <td>3.2</td>\n",
       "      <td>83</td>\n",
       "      <td>55.68</td>\n",
       "      <td>111.3</td>\n",
       "      <td>16008.000</td>\n",
       "    </tr>\n",
       "    <tr>\n",
       "      <th>1</th>\n",
       "      <td>Austria</td>\n",
       "      <td>83860</td>\n",
       "      <td>300</td>\n",
       "      <td>7.6</td>\n",
       "      <td>87</td>\n",
       "      <td>38.34</td>\n",
       "      <td>90.6</td>\n",
       "      <td>32151.924</td>\n",
       "    </tr>\n",
       "    <tr>\n",
       "      <th>2</th>\n",
       "      <td>Belgium</td>\n",
       "      <td>30520</td>\n",
       "      <td>1</td>\n",
       "      <td>9.9</td>\n",
       "      <td>118</td>\n",
       "      <td>65.93</td>\n",
       "      <td>324.4</td>\n",
       "      <td>20121.836</td>\n",
       "    </tr>\n",
       "    <tr>\n",
       "      <th>3</th>\n",
       "      <td>Bulgaria</td>\n",
       "      <td>111000</td>\n",
       "      <td>5000</td>\n",
       "      <td>9.0</td>\n",
       "      <td>117</td>\n",
       "      <td>57.99</td>\n",
       "      <td>81.1</td>\n",
       "      <td>64368.900</td>\n",
       "    </tr>\n",
       "    <tr>\n",
       "      <th>4</th>\n",
       "      <td>Denmark</td>\n",
       "      <td>43100</td>\n",
       "      <td>9</td>\n",
       "      <td>5.1</td>\n",
       "      <td>59</td>\n",
       "      <td>81.46</td>\n",
       "      <td>118.3</td>\n",
       "      <td>35109.260</td>\n",
       "    </tr>\n",
       "    <tr>\n",
       "      <th>5</th>\n",
       "      <td>France</td>\n",
       "      <td>544000</td>\n",
       "      <td>140</td>\n",
       "      <td>56.0</td>\n",
       "      <td>774</td>\n",
       "      <td>58.47</td>\n",
       "      <td>102.9</td>\n",
       "      <td>318076.800</td>\n",
       "    </tr>\n",
       "    <tr>\n",
       "      <th>6</th>\n",
       "      <td>Germany</td>\n",
       "      <td>357000</td>\n",
       "      <td>3300</td>\n",
       "      <td>78.0</td>\n",
       "      <td>901</td>\n",
       "      <td>59.81</td>\n",
       "      <td>218.5</td>\n",
       "      <td>213521.700</td>\n",
       "    </tr>\n",
       "    <tr>\n",
       "      <th>7</th>\n",
       "      <td>Greece</td>\n",
       "      <td>132000</td>\n",
       "      <td>2500</td>\n",
       "      <td>10.0</td>\n",
       "      <td>106</td>\n",
       "      <td>47.31</td>\n",
       "      <td>75.8</td>\n",
       "      <td>62449.200</td>\n",
       "    </tr>\n",
       "    <tr>\n",
       "      <th>8</th>\n",
       "      <td>Holland</td>\n",
       "      <td>41900</td>\n",
       "      <td>4</td>\n",
       "      <td>15.0</td>\n",
       "      <td>188</td>\n",
       "      <td>70.96</td>\n",
       "      <td>358.0</td>\n",
       "      <td>29732.240</td>\n",
       "    </tr>\n",
       "    <tr>\n",
       "      <th>9</th>\n",
       "      <td>Hungary</td>\n",
       "      <td>93000</td>\n",
       "      <td>5000</td>\n",
       "      <td>11.0</td>\n",
       "      <td>124</td>\n",
       "      <td>75.86</td>\n",
       "      <td>118.3</td>\n",
       "      <td>70549.800</td>\n",
       "    </tr>\n",
       "    <tr>\n",
       "      <th>10</th>\n",
       "      <td>Italy</td>\n",
       "      <td>301280</td>\n",
       "      <td>5</td>\n",
       "      <td>57.0</td>\n",
       "      <td>551</td>\n",
       "      <td>60.30</td>\n",
       "      <td>189.2</td>\n",
       "      <td>181671.840</td>\n",
       "    </tr>\n",
       "    <tr>\n",
       "      <th>11</th>\n",
       "      <td>Poland</td>\n",
       "      <td>312680</td>\n",
       "      <td>30000</td>\n",
       "      <td>38.0</td>\n",
       "      <td>610</td>\n",
       "      <td>64.09</td>\n",
       "      <td>121.5</td>\n",
       "      <td>200396.612</td>\n",
       "    </tr>\n",
       "    <tr>\n",
       "      <th>12</th>\n",
       "      <td>Portugal</td>\n",
       "      <td>92390</td>\n",
       "      <td>1500</td>\n",
       "      <td>10.0</td>\n",
       "      <td>120</td>\n",
       "      <td>52.51</td>\n",
       "      <td>108.2</td>\n",
       "      <td>48513.989</td>\n",
       "    </tr>\n",
       "    <tr>\n",
       "      <th>13</th>\n",
       "      <td>Romania</td>\n",
       "      <td>237500</td>\n",
       "      <td>5000</td>\n",
       "      <td>23.0</td>\n",
       "      <td>367</td>\n",
       "      <td>62.49</td>\n",
       "      <td>96.8</td>\n",
       "      <td>148413.750</td>\n",
       "    </tr>\n",
       "    <tr>\n",
       "      <th>14</th>\n",
       "      <td>Spain</td>\n",
       "      <td>504750</td>\n",
       "      <td>8000</td>\n",
       "      <td>39.0</td>\n",
       "      <td>439</td>\n",
       "      <td>59.57</td>\n",
       "      <td>77.3</td>\n",
       "      <td>300679.575</td>\n",
       "    </tr>\n",
       "    <tr>\n",
       "      <th>15</th>\n",
       "      <td>Switzerland</td>\n",
       "      <td>41290</td>\n",
       "      <td>150</td>\n",
       "      <td>6.7</td>\n",
       "      <td>82</td>\n",
       "      <td>43.19</td>\n",
       "      <td>162.3</td>\n",
       "      <td>17833.151</td>\n",
       "    </tr>\n",
       "    <tr>\n",
       "      <th>16</th>\n",
       "      <td>Turkey</td>\n",
       "      <td>779450</td>\n",
       "      <td>25000</td>\n",
       "      <td>56.0</td>\n",
       "      <td>1576</td>\n",
       "      <td>65.97</td>\n",
       "      <td>71.8</td>\n",
       "      <td>514203.165</td>\n",
       "    </tr>\n",
       "  </tbody>\n",
       "</table>\n",
       "</div>"
      ],
      "text/plain": [
       "        Country    Area  Storks  Humans  BirthRate  SuitableAreaPercent  \\\n",
       "0       Albania   28750     100     3.2         83                55.68   \n",
       "1       Austria   83860     300     7.6         87                38.34   \n",
       "2       Belgium   30520       1     9.9        118                65.93   \n",
       "3      Bulgaria  111000    5000     9.0        117                57.99   \n",
       "4       Denmark   43100       9     5.1         59                81.46   \n",
       "5        France  544000     140    56.0        774                58.47   \n",
       "6       Germany  357000    3300    78.0        901                59.81   \n",
       "7        Greece  132000    2500    10.0        106                47.31   \n",
       "8       Holland   41900       4    15.0        188                70.96   \n",
       "9       Hungary   93000    5000    11.0        124                75.86   \n",
       "10        Italy  301280       5    57.0        551                60.30   \n",
       "11       Poland  312680   30000    38.0        610                64.09   \n",
       "12     Portugal   92390    1500    10.0        120                52.51   \n",
       "13      Romania  237500    5000    23.0        367                62.49   \n",
       "14        Spain  504750    8000    39.0        439                59.57   \n",
       "15  Switzerland   41290     150     6.7         82                43.19   \n",
       "16       Turkey  779450   25000    56.0       1576                65.97   \n",
       "\n",
       "    PopDensity  SuitableArea  \n",
       "0        111.3     16008.000  \n",
       "1         90.6     32151.924  \n",
       "2        324.4     20121.836  \n",
       "3         81.1     64368.900  \n",
       "4        118.3     35109.260  \n",
       "5        102.9    318076.800  \n",
       "6        218.5    213521.700  \n",
       "7         75.8     62449.200  \n",
       "8        358.0     29732.240  \n",
       "9        118.3     70549.800  \n",
       "10       189.2    181671.840  \n",
       "11       121.5    200396.612  \n",
       "12       108.2     48513.989  \n",
       "13        96.8    148413.750  \n",
       "14        77.3    300679.575  \n",
       "15       162.3     17833.151  \n",
       "16        71.8    514203.165  "
      ]
     },
     "execution_count": 31,
     "metadata": {},
     "output_type": "execute_result"
    }
   ],
   "source": [
    "df2 = df.assign(PopDensity = pop, SuitableArea = suit)\n",
    "df2"
   ]
  },
  {
   "cell_type": "markdown",
   "id": "0f171f7d-cdb5-4712-ba76-639930cf1f8a",
   "metadata": {},
   "source": [
    "$$\\newline$$"
   ]
  },
  {
   "cell_type": "markdown",
   "id": "98fc1ac7-9a86-49cb-8637-454ee84d4d5f",
   "metadata": {},
   "source": [
    "$\\large\\textbf{2.2: Regression Model 1}$"
   ]
  },
  {
   "cell_type": "markdown",
   "id": "93e5663d-5519-416b-8b04-539602945854",
   "metadata": {},
   "source": [
    "The regression model for how the area effects the number of stork pairs is plotted."
   ]
  },
  {
   "cell_type": "code",
   "execution_count": 32,
   "id": "0effb92f-9b6a-4392-b784-eec2a2774c06",
   "metadata": {},
   "outputs": [],
   "source": [
    "y_S = df2[['Storks']].to_numpy()\n",
    "X_area = df2[['Area']].to_numpy()\n",
    "X_suit_area = df2[['SuitableArea']].to_numpy()\n",
    "X_land_area = df2[['PopDensity']].to_numpy()\n",
    "X_la = df2[['SuitableArea', 'PopDensity']].to_numpy()"
   ]
  },
  {
   "cell_type": "code",
   "execution_count": 33,
   "id": "862d4f75-88d7-4c15-a084-b7df5c2bb822",
   "metadata": {},
   "outputs": [],
   "source": [
    "reg_area_S = LinearRegression().fit(X_area, y_S)"
   ]
  },
  {
   "cell_type": "code",
   "execution_count": 34,
   "id": "8c605400-8890-4eef-b696-55c60c56a5d6",
   "metadata": {},
   "outputs": [],
   "source": [
    "y_hat_area = reg_area_S.predict(X_area)"
   ]
  },
  {
   "cell_type": "code",
   "execution_count": 35,
   "id": "7aed27a8-2e6d-473e-b33d-a8966b0bcbdf",
   "metadata": {},
   "outputs": [
    {
     "data": {
      "image/png": "[encoded data removed]",
      "text/plain": [
       "<Figure size 864x576 with 1 Axes>"
      ]
     },
     "metadata": {
      "needs_background": "light"
     },
     "output_type": "display_data"
    }
   ],
   "source": [
    "fig, a5 = plt.subplots(1,1,figsize=(12,8))\n",
    "a5.scatter(X_area, y_S,  color='black', alpha=1, s=10)\n",
    "a5.plot(X_area, y_hat_area, color='blue', linewidth=1)\n",
    "\n",
    "a5.set_xlabel('Land Area (km^2)')\n",
    "a5.set_ylabel('Number of Stork Pairs')\n",
    "plt.show()"
   ]
  },
  {
   "cell_type": "code",
   "execution_count": 36,
   "id": "a2f774db-0a95-419e-90e1-6bd8be2a1b1a",
   "metadata": {},
   "outputs": [
    {
     "name": "stdout",
     "output_type": "stream",
     "text": [
      "The R2 coefficient of determination is 0.336\n",
      "The intercept is -60.7\n",
      "Estimated regression coefficient for Population Size is 0.02 \n",
      "Root of the mean squared error: 6984.77\n"
     ]
    }
   ],
   "source": [
    "print('The R2 coefficient of determination is %4.3f' % reg_area_S.score(X_area, y_S))\n",
    "print('The intercept is %4.1f' % reg_area_S.intercept_)\n",
    "beta_area = reg_area_S.coef_\n",
    "print('Estimated regression coefficient for Population Size is %4.2f' % beta_area, '')\n",
    "print('Root of the mean squared error: %.2f'% mean_squared_error(y_hat_area, y_S, squared=False))"
   ]
  },
  {
   "cell_type": "markdown",
   "id": "64f0e7cc-3d42-47d3-90d4-2f3ccbac761f",
   "metadata": {},
   "source": [
    "$$\\newline$$"
   ]
  },
  {
   "cell_type": "markdown",
   "id": "67b0dc2a-324f-41d6-b6bc-dbb909d55f88",
   "metadata": {},
   "source": [
    "$\\large\\textbf{2.3: Regression Model 2}$"
   ]
  },
  {
   "cell_type": "markdown",
   "id": "0ae7ef9a-5068-4593-b5de-cf13148e7406",
   "metadata": {},
   "source": [
    "The regression model for how the predictor variables suitable area and population density effect the number of stork pairs is plotted."
   ]
  },
  {
   "cell_type": "code",
   "execution_count": 37,
   "id": "1e092d56-96ad-497d-bfe4-b02146b23928",
   "metadata": {},
   "outputs": [],
   "source": [
    "reg_la_S = LinearRegression().fit(X_la, y_S)"
   ]
  },
  {
   "cell_type": "code",
   "execution_count": 38,
   "id": "33456eba-36d5-4243-8124-55f491440b64",
   "metadata": {},
   "outputs": [],
   "source": [
    "y_hat_la = reg_la_S.predict(X_la)"
   ]
  },
  {
   "cell_type": "code",
   "execution_count": 39,
   "id": "00ccf8c4-cb9e-4295-a411-0e8cd7d2619f",
   "metadata": {},
   "outputs": [
    {
     "data": {
      "image/png": "[encoded data removed]",
      "text/plain": [
       "<Figure size 864x576 with 1 Axes>"
      ]
     },
     "metadata": {
      "needs_background": "light"
     },
     "output_type": "display_data"
    }
   ],
   "source": [
    "fig, a6 = plt.subplots(1,1,figsize=(12,8))\n",
    "a6.scatter(y_hat_la, y_S,  color='black', alpha=1, s=10)\n",
    "a6.plot(y_hat_la, y_hat_la, color='blue', linewidth=1)\n",
    "\n",
    "a6.set_xlabel('Suitable Area and Population Density')\n",
    "a6.set_ylabel('Number of Stork Pairs')\n",
    "plt.show()"
   ]
  },
  {
   "cell_type": "code",
   "execution_count": 40,
   "id": "2c71ad04-bc89-4527-b65a-ab35d2bd579b",
   "metadata": {},
   "outputs": [
    {
     "name": "stdout",
     "output_type": "stream",
     "text": [
      "The R2 coefficient of determination is 0.393\n",
      "The intercept is 1882.0\n",
      "Root of the mean squared error: 6676.99\n"
     ]
    }
   ],
   "source": [
    "print('The R2 coefficient of determination is %4.3f' % reg_la_S.score(X_la, y_S))\n",
    "print('The intercept is %4.1f' % reg_la_S.intercept_)\n",
    "print('Root of the mean squared error: %.2f'% mean_squared_error(y_hat_la, y_S, squared=False))"
   ]
  },
  {
   "cell_type": "markdown",
   "id": "17ce7dbb-b05f-4d04-b68f-5573005cb36d",
   "metadata": {},
   "source": [
    "$$\\newline$$"
   ]
  },
  {
   "cell_type": "markdown",
   "id": "11606642-46c0-459c-b071-3d85250505a8",
   "metadata": {},
   "source": [
    "$\\large\\textbf{2.4: Brief Description}$"
   ]
  },
  {
   "cell_type": "markdown",
   "id": "6effde75-b6cd-42f3-abb4-c1025f936e0d",
   "metadata": {},
   "source": [
    "Both models have a approximately the same R2 coefficient and RMSE values. The second plot has slightly lower RMSE and a slightly higher R2 coefficient of determination, suggesting the regression plot is fitted better."
   ]
  },
  {
   "cell_type": "markdown",
   "id": "9efb838a-e901-4eb9-af76-cdf1a9bcdfa2",
   "metadata": {},
   "source": [
    "$$\\newline$$"
   ]
  },
  {
   "cell_type": "markdown",
   "id": "dc7f5ecc-474f-404f-a578-f8ffb626ea97",
   "metadata": {},
   "source": [
    "$\\large\\textbf{2.5: Bootstrap}$"
   ]
  },
  {
   "cell_type": "markdown",
   "id": "a1f43e97-f861-4bf8-9409-5a744ef6faae",
   "metadata": {},
   "source": [
    "A bootstrap is used to create a resampled dataframe, then run the dataframe to get the regression models and RMSE values."
   ]
  },
  {
   "cell_type": "code",
   "execution_count": 41,
   "id": "ca114e26-1391-46dc-a1e6-0b0423d8d2b2",
   "metadata": {},
   "outputs": [],
   "source": [
    "def bootstrap_2(data, repeats):\n",
    "    \n",
    "    # Input chosen data\n",
    "    result = pd.DataFrame(data)\n",
    "    \n",
    "    # Resample input data X times, default is to resample same size \n",
    "    for i in range(0, repeats):\n",
    "        result = resample(data)\n",
    "    return result"
   ]
  },
  {
   "cell_type": "code",
   "execution_count": 42,
   "id": "01d5741b-73ad-40d5-896a-5b1e617c1476",
   "metadata": {},
   "outputs": [],
   "source": [
    "def regression_boot_2(df_boot_2):\n",
    "    \n",
    "    # Column values of sampled dataframes (storks and humans)\n",
    "    y_S_rep = df_boot_2[['Storks']].to_numpy()\n",
    "    X_area_rep = df_boot_2[['Area']].to_numpy()\n",
    "    X_la_rep = df_boot_2[['SuitableArea', 'PopDensity']].to_numpy()\n",
    "    \n",
    "    reg_area_S_boot = LinearRegression().fit(X_area_rep, y_S_rep)\n",
    "    reg_la_S_boot = LinearRegression().fit(X_la_rep, y_S_rep)\n",
    "    \n",
    "    y_hat_area_boot = reg_area_S_boot.predict(X_area_rep)\n",
    "    y_hat_la_boot = reg_la_S_boot.predict(X_la_rep)\n",
    "    \n",
    "    #RMSE\n",
    "    RMSE1 = mean_squared_error(y_hat_area_boot, y_S_rep, squared=False)\n",
    "    RMSE2 = mean_squared_error(y_hat_la_boot, y_S_rep, squared=False)\n",
    "    \n",
    "    # R2 value difference between two above regressions\n",
    "    RMSE_diff = RMSE1-RMSE2\n",
    "    \n",
    "    return RMSE_diff"
   ]
  },
  {
   "cell_type": "markdown",
   "id": "e6691d01-d3df-42d3-ae05-34bdba551098",
   "metadata": {},
   "source": [
    "The resampled dataframe is shown below"
   ]
  },
  {
   "cell_type": "code",
   "execution_count": 43,
   "id": "1ad1314f-0064-42ea-bd0a-4ee2d0ca7948",
   "metadata": {},
   "outputs": [
    {
     "data": {
      "text/html": [
       "<div>\n",
       "<style scoped>\n",
       "    .dataframe tbody tr th:only-of-type {\n",
       "        vertical-align: middle;\n",
       "    }\n",
       "\n",
       "    .dataframe tbody tr th {\n",
       "        vertical-align: top;\n",
       "    }\n",
       "\n",
       "    .dataframe thead th {\n",
       "        text-align: right;\n",
       "    }\n",
       "</style>\n",
       "<table border=\"1\" class=\"dataframe\">\n",
       "  <thead>\n",
       "    <tr style=\"text-align: right;\">\n",
       "      <th></th>\n",
       "      <th>Country</th>\n",
       "      <th>Area</th>\n",
       "      <th>Storks</th>\n",
       "      <th>Humans</th>\n",
       "      <th>BirthRate</th>\n",
       "      <th>SuitableAreaPercent</th>\n",
       "      <th>PopDensity</th>\n",
       "      <th>SuitableArea</th>\n",
       "    </tr>\n",
       "  </thead>\n",
       "  <tbody>\n",
       "    <tr>\n",
       "      <th>9</th>\n",
       "      <td>Hungary</td>\n",
       "      <td>93000</td>\n",
       "      <td>5000</td>\n",
       "      <td>11.0</td>\n",
       "      <td>124</td>\n",
       "      <td>75.86</td>\n",
       "      <td>118.3</td>\n",
       "      <td>70549.800</td>\n",
       "    </tr>\n",
       "    <tr>\n",
       "      <th>9</th>\n",
       "      <td>Hungary</td>\n",
       "      <td>93000</td>\n",
       "      <td>5000</td>\n",
       "      <td>11.0</td>\n",
       "      <td>124</td>\n",
       "      <td>75.86</td>\n",
       "      <td>118.3</td>\n",
       "      <td>70549.800</td>\n",
       "    </tr>\n",
       "    <tr>\n",
       "      <th>15</th>\n",
       "      <td>Switzerland</td>\n",
       "      <td>41290</td>\n",
       "      <td>150</td>\n",
       "      <td>6.7</td>\n",
       "      <td>82</td>\n",
       "      <td>43.19</td>\n",
       "      <td>162.3</td>\n",
       "      <td>17833.151</td>\n",
       "    </tr>\n",
       "    <tr>\n",
       "      <th>4</th>\n",
       "      <td>Denmark</td>\n",
       "      <td>43100</td>\n",
       "      <td>9</td>\n",
       "      <td>5.1</td>\n",
       "      <td>59</td>\n",
       "      <td>81.46</td>\n",
       "      <td>118.3</td>\n",
       "      <td>35109.260</td>\n",
       "    </tr>\n",
       "    <tr>\n",
       "      <th>1</th>\n",
       "      <td>Austria</td>\n",
       "      <td>83860</td>\n",
       "      <td>300</td>\n",
       "      <td>7.6</td>\n",
       "      <td>87</td>\n",
       "      <td>38.34</td>\n",
       "      <td>90.6</td>\n",
       "      <td>32151.924</td>\n",
       "    </tr>\n",
       "    <tr>\n",
       "      <th>2</th>\n",
       "      <td>Belgium</td>\n",
       "      <td>30520</td>\n",
       "      <td>1</td>\n",
       "      <td>9.9</td>\n",
       "      <td>118</td>\n",
       "      <td>65.93</td>\n",
       "      <td>324.4</td>\n",
       "      <td>20121.836</td>\n",
       "    </tr>\n",
       "    <tr>\n",
       "      <th>3</th>\n",
       "      <td>Bulgaria</td>\n",
       "      <td>111000</td>\n",
       "      <td>5000</td>\n",
       "      <td>9.0</td>\n",
       "      <td>117</td>\n",
       "      <td>57.99</td>\n",
       "      <td>81.1</td>\n",
       "      <td>64368.900</td>\n",
       "    </tr>\n",
       "    <tr>\n",
       "      <th>3</th>\n",
       "      <td>Bulgaria</td>\n",
       "      <td>111000</td>\n",
       "      <td>5000</td>\n",
       "      <td>9.0</td>\n",
       "      <td>117</td>\n",
       "      <td>57.99</td>\n",
       "      <td>81.1</td>\n",
       "      <td>64368.900</td>\n",
       "    </tr>\n",
       "    <tr>\n",
       "      <th>7</th>\n",
       "      <td>Greece</td>\n",
       "      <td>132000</td>\n",
       "      <td>2500</td>\n",
       "      <td>10.0</td>\n",
       "      <td>106</td>\n",
       "      <td>47.31</td>\n",
       "      <td>75.8</td>\n",
       "      <td>62449.200</td>\n",
       "    </tr>\n",
       "    <tr>\n",
       "      <th>4</th>\n",
       "      <td>Denmark</td>\n",
       "      <td>43100</td>\n",
       "      <td>9</td>\n",
       "      <td>5.1</td>\n",
       "      <td>59</td>\n",
       "      <td>81.46</td>\n",
       "      <td>118.3</td>\n",
       "      <td>35109.260</td>\n",
       "    </tr>\n",
       "    <tr>\n",
       "      <th>13</th>\n",
       "      <td>Romania</td>\n",
       "      <td>237500</td>\n",
       "      <td>5000</td>\n",
       "      <td>23.0</td>\n",
       "      <td>367</td>\n",
       "      <td>62.49</td>\n",
       "      <td>96.8</td>\n",
       "      <td>148413.750</td>\n",
       "    </tr>\n",
       "    <tr>\n",
       "      <th>5</th>\n",
       "      <td>France</td>\n",
       "      <td>544000</td>\n",
       "      <td>140</td>\n",
       "      <td>56.0</td>\n",
       "      <td>774</td>\n",
       "      <td>58.47</td>\n",
       "      <td>102.9</td>\n",
       "      <td>318076.800</td>\n",
       "    </tr>\n",
       "    <tr>\n",
       "      <th>2</th>\n",
       "      <td>Belgium</td>\n",
       "      <td>30520</td>\n",
       "      <td>1</td>\n",
       "      <td>9.9</td>\n",
       "      <td>118</td>\n",
       "      <td>65.93</td>\n",
       "      <td>324.4</td>\n",
       "      <td>20121.836</td>\n",
       "    </tr>\n",
       "    <tr>\n",
       "      <th>11</th>\n",
       "      <td>Poland</td>\n",
       "      <td>312680</td>\n",
       "      <td>30000</td>\n",
       "      <td>38.0</td>\n",
       "      <td>610</td>\n",
       "      <td>64.09</td>\n",
       "      <td>121.5</td>\n",
       "      <td>200396.612</td>\n",
       "    </tr>\n",
       "    <tr>\n",
       "      <th>14</th>\n",
       "      <td>Spain</td>\n",
       "      <td>504750</td>\n",
       "      <td>8000</td>\n",
       "      <td>39.0</td>\n",
       "      <td>439</td>\n",
       "      <td>59.57</td>\n",
       "      <td>77.3</td>\n",
       "      <td>300679.575</td>\n",
       "    </tr>\n",
       "    <tr>\n",
       "      <th>3</th>\n",
       "      <td>Bulgaria</td>\n",
       "      <td>111000</td>\n",
       "      <td>5000</td>\n",
       "      <td>9.0</td>\n",
       "      <td>117</td>\n",
       "      <td>57.99</td>\n",
       "      <td>81.1</td>\n",
       "      <td>64368.900</td>\n",
       "    </tr>\n",
       "    <tr>\n",
       "      <th>12</th>\n",
       "      <td>Portugal</td>\n",
       "      <td>92390</td>\n",
       "      <td>1500</td>\n",
       "      <td>10.0</td>\n",
       "      <td>120</td>\n",
       "      <td>52.51</td>\n",
       "      <td>108.2</td>\n",
       "      <td>48513.989</td>\n",
       "    </tr>\n",
       "  </tbody>\n",
       "</table>\n",
       "</div>"
      ],
      "text/plain": [
       "        Country    Area  Storks  Humans  BirthRate  SuitableAreaPercent  \\\n",
       "9       Hungary   93000    5000    11.0        124                75.86   \n",
       "9       Hungary   93000    5000    11.0        124                75.86   \n",
       "15  Switzerland   41290     150     6.7         82                43.19   \n",
       "4       Denmark   43100       9     5.1         59                81.46   \n",
       "1       Austria   83860     300     7.6         87                38.34   \n",
       "2       Belgium   30520       1     9.9        118                65.93   \n",
       "3      Bulgaria  111000    5000     9.0        117                57.99   \n",
       "3      Bulgaria  111000    5000     9.0        117                57.99   \n",
       "7        Greece  132000    2500    10.0        106                47.31   \n",
       "4       Denmark   43100       9     5.1         59                81.46   \n",
       "13      Romania  237500    5000    23.0        367                62.49   \n",
       "5        France  544000     140    56.0        774                58.47   \n",
       "2       Belgium   30520       1     9.9        118                65.93   \n",
       "11       Poland  312680   30000    38.0        610                64.09   \n",
       "14        Spain  504750    8000    39.0        439                59.57   \n",
       "3      Bulgaria  111000    5000     9.0        117                57.99   \n",
       "12     Portugal   92390    1500    10.0        120                52.51   \n",
       "\n",
       "    PopDensity  SuitableArea  \n",
       "9        118.3     70549.800  \n",
       "9        118.3     70549.800  \n",
       "15       162.3     17833.151  \n",
       "4        118.3     35109.260  \n",
       "1         90.6     32151.924  \n",
       "2        324.4     20121.836  \n",
       "3         81.1     64368.900  \n",
       "3         81.1     64368.900  \n",
       "7         75.8     62449.200  \n",
       "4        118.3     35109.260  \n",
       "13        96.8    148413.750  \n",
       "5        102.9    318076.800  \n",
       "2        324.4     20121.836  \n",
       "11       121.5    200396.612  \n",
       "14        77.3    300679.575  \n",
       "3         81.1     64368.900  \n",
       "12       108.2     48513.989  "
      ]
     },
     "execution_count": 43,
     "metadata": {},
     "output_type": "execute_result"
    }
   ],
   "source": [
    "df2_boot = bootstrap_2(df2, 100)\n",
    "df2_boot"
   ]
  },
  {
   "cell_type": "markdown",
   "id": "93e9d8ff-4595-48c5-845b-d98f80acabd3",
   "metadata": {},
   "source": [
    "$$\\newline$$"
   ]
  },
  {
   "cell_type": "markdown",
   "id": "5323db59-1af5-4de2-ba6b-660baf43da1a",
   "metadata": {},
   "source": [
    "$\\large\\textbf{2.6: Resampled Regression Model 1}$"
   ]
  },
  {
   "cell_type": "markdown",
   "id": "5749bcc0-de24-4684-8247-16a79a4c6e02",
   "metadata": {},
   "source": [
    "The regression model from section 2.2 is re-plotted with a resampled dataframe"
   ]
  },
  {
   "cell_type": "code",
   "execution_count": 44,
   "id": "790ae9d3-fe41-4cae-89f4-f320e12e65eb",
   "metadata": {},
   "outputs": [],
   "source": [
    "y_S_boot = df2_boot[['Storks']].to_numpy()  \n",
    "X_area_boot = df2_boot[['Area']].to_numpy()\n",
    "X_suit_area_boot = df2_boot[['SuitableAreaPercent']].to_numpy()\n",
    "X_land_area_boot = df2_boot[['PopDensity']].to_numpy()\n",
    "X_la_boot = df2_boot[['SuitableAreaPercent', 'PopDensity']].to_numpy()"
   ]
  },
  {
   "cell_type": "code",
   "execution_count": 45,
   "id": "12687fbe-1a41-475b-8856-8dfecf1899b5",
   "metadata": {},
   "outputs": [],
   "source": [
    "reg_area_S_boot = LinearRegression().fit(X_area_boot, y_S_boot)"
   ]
  },
  {
   "cell_type": "code",
   "execution_count": 46,
   "id": "ead05112-b7c9-42dd-823a-41cf352781bd",
   "metadata": {},
   "outputs": [],
   "source": [
    "y_hat_area_boot = reg_area_S_boot.predict(X_area_boot)"
   ]
  },
  {
   "cell_type": "code",
   "execution_count": 47,
   "id": "b4c6910f-c1b9-44d3-9cf1-9a55a6d9ccb5",
   "metadata": {},
   "outputs": [
    {
     "data": {
      "image/png": "[encoded data removed]",
      "text/plain": [
       "<Figure size 864x576 with 1 Axes>"
      ]
     },
     "metadata": {
      "needs_background": "light"
     },
     "output_type": "display_data"
    }
   ],
   "source": [
    "# Resampled regression\n",
    "\n",
    "fig, a5 = plt.subplots(1,1,figsize=(12,8))\n",
    "a5.scatter(X_area_boot, y_S_boot,  color='black', alpha=1, s=10)\n",
    "a5.plot(X_area_boot, y_hat_area_boot, color='blue', linewidth=1)\n",
    "\n",
    "a5.set_xlabel('Land Area (km^2)')\n",
    "a5.set_ylabel('Number of Stork Pairs')\n",
    "plt.show()"
   ]
  },
  {
   "cell_type": "code",
   "execution_count": 48,
   "id": "3ba40530-7e7d-48dd-b345-b2e8aa5b3b75",
   "metadata": {},
   "outputs": [
    {
     "name": "stdout",
     "output_type": "stream",
     "text": [
      "The R2 coefficient of determination is 0.135\n",
      "The intercept is 1712.0\n",
      "Estimated regression coefficient for Population Size is 0.02 \n",
      "Root of the mean squared error: 6428.43\n"
     ]
    }
   ],
   "source": [
    "print('The R2 coefficient of determination is %4.3f' % reg_area_S_boot.score(X_area_boot, y_S_boot))\n",
    "print('The intercept is %4.1f' % reg_area_S_boot.intercept_)\n",
    "beta_area_boot = reg_area_S_boot.coef_\n",
    "print('Estimated regression coefficient for Population Size is %4.2f' % beta_area_boot, '')\n",
    "print('Root of the mean squared error: %.2f'% mean_squared_error(y_hat_area_boot, y_S_boot, squared=False))"
   ]
  },
  {
   "cell_type": "markdown",
   "id": "13429e68-793f-40fa-b671-6d54dbe2a651",
   "metadata": {},
   "source": [
    "$$\\newline$$"
   ]
  },
  {
   "cell_type": "markdown",
   "id": "eeb1e8ec-4f52-4bb8-8546-0b072f4f7ca3",
   "metadata": {},
   "source": [
    "$\\large\\textbf{2.7: Resampled Regression Model 2}$"
   ]
  },
  {
   "cell_type": "markdown",
   "id": "9fd14303-e16b-4fc3-967b-5a8e77464b9f",
   "metadata": {},
   "source": [
    "The regression model from section 2.3 is re-plotted with a resampled dataframe"
   ]
  },
  {
   "cell_type": "code",
   "execution_count": 49,
   "id": "3e616fe7-28dc-427f-a48e-c20f73ccc432",
   "metadata": {},
   "outputs": [],
   "source": [
    "reg_la_S_boot = LinearRegression().fit(X_la_boot, y_S_boot)"
   ]
  },
  {
   "cell_type": "code",
   "execution_count": 50,
   "id": "128acedf-f404-4c2f-8752-e32df9063253",
   "metadata": {},
   "outputs": [],
   "source": [
    "y_hat_la_boot = reg_la_S_boot.predict(X_la_boot)"
   ]
  },
  {
   "cell_type": "code",
   "execution_count": 51,
   "id": "d51ce7d7-5805-4905-9361-e096693c9984",
   "metadata": {},
   "outputs": [
    {
     "data": {
      "image/png": "[encoded data removed]",
      "text/plain": [
       "<Figure size 864x576 with 1 Axes>"
      ]
     },
     "metadata": {
      "needs_background": "light"
     },
     "output_type": "display_data"
    }
   ],
   "source": [
    "# Resampled regression\n",
    "\n",
    "fig, a6 = plt.subplots(1,1,figsize=(12,8))\n",
    "a6.scatter(y_hat_la_boot, y_S_boot,  color='black', alpha=1, s=10)\n",
    "a6.plot(y_hat_la_boot, y_hat_la_boot, color='blue', linewidth=1)\n",
    "\n",
    "a6.set_xlabel('Suitable Area and Population Density')\n",
    "a6.set_ylabel('Number of Stork Pairs')\n",
    "plt.show()"
   ]
  },
  {
   "cell_type": "code",
   "execution_count": 52,
   "id": "dd884bdc-ab5b-4215-aeb6-642010bf4294",
   "metadata": {},
   "outputs": [
    {
     "name": "stdout",
     "output_type": "stream",
     "text": [
      "The R2 coefficient of determination is 0.056\n",
      "The intercept is 3128.3\n",
      "Root of the mean squared error: 6717.77\n"
     ]
    }
   ],
   "source": [
    "print('The R2 coefficient of determination is %4.3f' % reg_la_S_boot.score(X_la_boot, y_S_boot))\n",
    "print('The intercept is %4.1f' % reg_la_S_boot.intercept_)\n",
    "print('Root of the mean squared error: %.2f'% mean_squared_error(y_hat_la_boot, y_S_boot, squared=False))"
   ]
  },
  {
   "cell_type": "markdown",
   "id": "e1ba7a99-6bfd-4950-9140-e656614f7391",
   "metadata": {},
   "source": [
    "$$\\newline$$"
   ]
  },
  {
   "cell_type": "markdown",
   "id": "3f33fc74-0994-4852-927d-f4171c2847d6",
   "metadata": {},
   "source": [
    "$\\large\\textbf{2.8: Difference in RMSE Values}$"
   ]
  },
  {
   "cell_type": "markdown",
   "id": "ae91d507-de00-4eed-b62a-a46a485e8991",
   "metadata": {},
   "source": [
    "The regression models are plotted numerous times, their RMSE values determined and their differences are found. "
   ]
  },
  {
   "cell_type": "code",
   "execution_count": 53,
   "id": "039ccb3f-7bc8-4013-be45-f4dfbd012bb7",
   "metadata": {},
   "outputs": [],
   "source": [
    "data_store_2 = []\n",
    "\n",
    "for i in range(500):\n",
    "    \n",
    "    # Bootstrap dataframes\n",
    "    df_boot_2 = bootstrap_2(df2, 100)\n",
    "    \n",
    "    # Run bootstrap through regression bootstrap function\n",
    "    reg_boot_2 = regression_boot_2(df_boot_2).round(2)\n",
    "    data_store_2.append([reg_boot_2])"
   ]
  },
  {
   "cell_type": "code",
   "execution_count": 54,
   "id": "203bee62-e1cd-4c09-917d-a049a2fcbbbe",
   "metadata": {},
   "outputs": [
    {
     "data": {
      "text/html": [
       "<div>\n",
       "<style scoped>\n",
       "    .dataframe tbody tr th:only-of-type {\n",
       "        vertical-align: middle;\n",
       "    }\n",
       "\n",
       "    .dataframe tbody tr th {\n",
       "        vertical-align: top;\n",
       "    }\n",
       "\n",
       "    .dataframe thead th {\n",
       "        text-align: right;\n",
       "    }\n",
       "</style>\n",
       "<table border=\"1\" class=\"dataframe\">\n",
       "  <thead>\n",
       "    <tr style=\"text-align: right;\">\n",
       "      <th></th>\n",
       "      <th>RMSE_Difference</th>\n",
       "    </tr>\n",
       "  </thead>\n",
       "  <tbody>\n",
       "    <tr>\n",
       "      <th>0</th>\n",
       "      <td>256.16</td>\n",
       "    </tr>\n",
       "    <tr>\n",
       "      <th>1</th>\n",
       "      <td>481.10</td>\n",
       "    </tr>\n",
       "    <tr>\n",
       "      <th>2</th>\n",
       "      <td>196.22</td>\n",
       "    </tr>\n",
       "    <tr>\n",
       "      <th>3</th>\n",
       "      <td>211.12</td>\n",
       "    </tr>\n",
       "    <tr>\n",
       "      <th>4</th>\n",
       "      <td>189.32</td>\n",
       "    </tr>\n",
       "    <tr>\n",
       "      <th>...</th>\n",
       "      <td>...</td>\n",
       "    </tr>\n",
       "    <tr>\n",
       "      <th>495</th>\n",
       "      <td>93.31</td>\n",
       "    </tr>\n",
       "    <tr>\n",
       "      <th>496</th>\n",
       "      <td>410.88</td>\n",
       "    </tr>\n",
       "    <tr>\n",
       "      <th>497</th>\n",
       "      <td>755.07</td>\n",
       "    </tr>\n",
       "    <tr>\n",
       "      <th>498</th>\n",
       "      <td>711.22</td>\n",
       "    </tr>\n",
       "    <tr>\n",
       "      <th>499</th>\n",
       "      <td>416.47</td>\n",
       "    </tr>\n",
       "  </tbody>\n",
       "</table>\n",
       "<p>500 rows × 1 columns</p>\n",
       "</div>"
      ],
      "text/plain": [
       "     RMSE_Difference\n",
       "0             256.16\n",
       "1             481.10\n",
       "2             196.22\n",
       "3             211.12\n",
       "4             189.32\n",
       "..               ...\n",
       "495            93.31\n",
       "496           410.88\n",
       "497           755.07\n",
       "498           711.22\n",
       "499           416.47\n",
       "\n",
       "[500 rows x 1 columns]"
      ]
     },
     "execution_count": 54,
     "metadata": {},
     "output_type": "execute_result"
    }
   ],
   "source": [
    "df_reg_2 = pd.DataFrame(data_store_2, columns=['RMSE_Difference'])\n",
    "df_reg_2"
   ]
  },
  {
   "cell_type": "code",
   "execution_count": 55,
   "id": "c6892413-7d7a-49be-9e76-79e15a7d8379",
   "metadata": {},
   "outputs": [
    {
     "data": {
      "image/png": "[encoded data removed]",
      "text/plain": [
       "<Figure size 864x576 with 1 Axes>"
      ]
     },
     "metadata": {
      "needs_background": "light"
     },
     "output_type": "display_data"
    }
   ],
   "source": [
    "fig = plt.figure(figsize = (12,8))\n",
    "ax2=fig.gca()\n",
    "\n",
    "df_reg_2.hist(ax=ax2, bins=50)\n",
    "\n",
    "plt.show()"
   ]
  },
  {
   "cell_type": "code",
   "execution_count": 56,
   "id": "4f412b40-3830-49f7-8a0c-92094c62c12f",
   "metadata": {},
   "outputs": [
    {
     "name": "stdout",
     "output_type": "stream",
     "text": [
      "RMSE mean is 342.9, with 95% range is 118.4 to 659.3\n"
     ]
    }
   ],
   "source": [
    "print(\"RMSE mean is %4.1f, with 95%% range is %4.1f to %4.1f\" %\n",
    "      (df_reg_2.mean(), df_reg_2['RMSE_Difference'].quantile(0.05), df_reg_2['RMSE_Difference'].quantile(0.95)))"
   ]
  },
  {
   "cell_type": "markdown",
   "id": "62d85f4c-d8df-4320-9856-b9498dbf42cd",
   "metadata": {},
   "source": [
    "The above histogram shows the difference in the RMSE values between the land area plot and suitable area and population density plot. Taking the RMSE value of the land area plot away from the RMSE value of the suitable area and population density plot results in a greater RMSE difference, suggesting that the land area plot more of the variability than the other model. The confidence intervals further confirm our confidence in this conclusion. The confidence interval is fairly stable considering the number of repeats. This suggests the estimate is stable/"
   ]
  },
  {
   "cell_type": "markdown",
   "id": "4dc8ac30-b9fa-44e8-8ec6-705bc6e02ea2",
   "metadata": {},
   "source": [
    "$$\\newline$$"
   ]
  },
  {
   "cell_type": "markdown",
   "id": "2da2fdee-0968-4ffd-bd49-c9afe94d5191",
   "metadata": {},
   "source": [
    "$\\large\\textbf{Conclusion}$"
   ]
  },
  {
   "cell_type": "markdown",
   "id": "382fe2ae-955c-4c12-a940-aec935ae66e8",
   "metadata": {},
   "source": [
    "A boostrap model was applied to the original dataframe to produce repeated, resampled data. The resampled data was analysed with regression models and their metrics such as R2 values and RMSE were noted in a new dataframe. The difference in each regression models R2/RMSE were then used to determine which model best plotted the variability of the data.\n",
    "\n",
    "Analysis 1 seen that regression model 2 plotted more of the variability than the other model. This result found that the number of humans were a far better predictor than number of stork pairs for the birth rate of humans. This would agree with common sense and was expected.\n",
    "\n",
    "Analysis 2 found that regression model 1 plotted more of the variability than the other model. This result found that land area was a better predictor than suitable area and population density combined, for the number of stork pairs. This can be accepted as we would expect human population density to have less of an effect on stork pair numbers than land area."
   ]
  },
  {
   "cell_type": "markdown",
   "id": "7bbc8e6c-8e2b-4886-b8f3-232faa7f6ea6",
   "metadata": {},
   "source": [
    "$$\\newline$$"
   ]
  }
 ],
 "metadata": {
  "kernelspec": {
   "display_name": "Python 3 (ipykernel)",
   "language": "python",
   "name": "python3"
  },
  "language_info": {
   "codemirror_mode": {
    "name": "ipython",
    "version": 3
   },
   "file_extension": ".py",
   "mimetype": "text/x-python",
   "name": "python",
   "nbconvert_exporter": "python",
   "pygments_lexer": "ipython3",
   "version": "3.9.6"
  }
 },
 "nbformat": 4,
 "nbformat_minor": 5
}
